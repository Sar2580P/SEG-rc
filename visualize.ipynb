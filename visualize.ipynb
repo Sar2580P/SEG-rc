{
 "cells": [
  {
   "cell_type": "code",
   "execution_count": null,
   "metadata": {},
   "outputs": [
    {
     "name": "stdout",
     "output_type": "stream",
     "text": [
      "Total size of data['up'][0]: 67108864 bytes (64.00 MB)\n"
     ]
    },
    {
     "data": {
      "text/plain": [
       "(dtype('uint16'), (2, 1024, 1024))"
      ]
     },
     "execution_count": 12,
     "metadata": {},
     "output_type": "execute_result"
    }
   ],
   "source": [
    "import pickle\n",
    "import torch\n",
    "file = 'results/attn_maps/seed-4/blur_regions-begin___mid)/seg_applied_layers-down___mid/seg_blur_sigma-10_seg_scale-3_guidance_scale-0.pkl'\n",
    "\n",
    "with open(file, 'rb') as f:\n",
    "    data = pickle.load(f)\n",
    "    \n",
    "# Compute total size in bytes\n",
    "total_size_bytes = sum(arr.nbytes for arr in data['up'][0])\n",
    "\n",
    "# Convert to MB\n",
    "total_size_mb = total_size_bytes / (1024 * 1024)\n",
    "\n",
    "print(f\"Total size of data['up'][0]: {total_size_bytes} bytes ({total_size_mb:.2f} MB)\")\n",
    "data['up'][0].dtype, data['up'][30].shape\n",
    "data['up'][0].shape"
   ]
  },
  {
   "cell_type": "code",
   "execution_count": 3,
   "metadata": {},
   "outputs": [
    {
     "data": {
      "text/plain": [
       "(torch.Size([2, 1024, 1024]),\n",
       " (2, 1024, 1024),\n",
       " dtype('uint16'),\n",
       " 4.0,\n",
       " (np.uint16(0), np.uint16(9999)))"
      ]
     },
     "execution_count": 3,
     "metadata": {},
     "output_type": "execute_result"
    }
   ],
   "source": [
    "import torch\n",
    "import numpy as np\n",
    "\n",
    "def reduce_precision(attention_map: torch.Tensor) -> np.ndarray:\n",
    "    \"\"\"\n",
    "    Reduces the precision of the input tensor to unsigned 16-bit integer (uint16) and converts it to a NumPy array.\n",
    "\n",
    "    Args:\n",
    "        attention_map (Tensor): Input tensor of shape [B, S, S], expected to be in range [0, 1].\n",
    "\n",
    "    Returns:\n",
    "        np.ndarray: Reduced-precision NumPy array of shape [B, S, S] in uint16 format.\n",
    "    \"\"\"\n",
    "    if torch.any(torch.isnan(attention_map)):\n",
    "        print(\"Warning: Attention map contains NaN values. Clipping to [0, 1] before scaling.\")\n",
    "        attention_map = attention_map.clamp(0, 1)\n",
    "\n",
    "    # Scale and convert to uint16\n",
    "    scaled_attn_maps = (attention_map * 10000).clamp(0, 65535).to(torch.uint16)\n",
    "\n",
    "    # Convert to NumPy and return\n",
    "    return scaled_attn_maps.cpu().numpy().astype(np.uint16)\n",
    "\n",
    "\n",
    "# Create a sample tensor in range [0,1] with shape (2, 1024, 1024)\n",
    "torch.manual_seed(42)  # For reproducibility\n",
    "sample_tensor = torch.rand((2, 1024, 1024), dtype=torch.float32)  # Values in [0,1]\n",
    "\n",
    "# Apply the function\n",
    "compressed_numpy = reduce_precision(sample_tensor)\n",
    "\n",
    "# Check memory size\n",
    "memory_size_mb = compressed_numpy.nbytes / (1024 * 1024)  # Convert bytes to MB\n",
    "\n",
    "# Verify range and dtype\n",
    "sample_min, sample_max = compressed_numpy.min(), compressed_numpy.max()\n",
    "\n",
    "sample_tensor.shape, compressed_numpy.shape, compressed_numpy.dtype, memory_size_mb, (sample_min, sample_max)\n"
   ]
  }
 ],
 "metadata": {
  "kernelspec": {
   "display_name": "seg-sdxl-mlrc-JvYdAaD0-py3.10",
   "language": "python",
   "name": "python3"
  },
  "language_info": {
   "codemirror_mode": {
    "name": "ipython",
    "version": 3
   },
   "file_extension": ".py",
   "mimetype": "text/x-python",
   "name": "python",
   "nbconvert_exporter": "python",
   "pygments_lexer": "ipython3",
   "version": "3.10.12"
  }
 },
 "nbformat": 4,
 "nbformat_minor": 2
}
