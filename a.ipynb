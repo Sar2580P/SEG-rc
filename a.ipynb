{
 "cells": [
  {
   "cell_type": "code",
   "execution_count": 4,
   "metadata": {},
   "outputs": [
    {
     "name": "stdout",
     "output_type": "stream",
     "text": [
      "dict_keys(['down', 'mid', 'up'])\n"
     ]
    }
   ],
   "source": [
    "import pickle\n",
    "import torch\n",
    "file = 'results/attn_maps/seed-4/blur_regions-begin___mid)/seg_applied_layers-down___mid/seg_blur_sigma-10_seg_scale-3_guidance_scale-0.pkl'\n",
    "\n",
    "with open(file, 'rb') as f:\n",
    "    data = pickle.load(f)\n",
    "    \n",
    "print(data.keys())"
   ]
  }
 ],
 "metadata": {
  "kernelspec": {
   "display_name": "seg-sdxl-mlrc-JvYdAaD0-py3.10",
   "language": "python",
   "name": "python3"
  },
  "language_info": {
   "codemirror_mode": {
    "name": "ipython",
    "version": 3
   },
   "file_extension": ".py",
   "mimetype": "text/x-python",
   "name": "python",
   "nbconvert_exporter": "python",
   "pygments_lexer": "ipython3",
   "version": "3.10.12"
  }
 },
 "nbformat": 4,
 "nbformat_minor": 2
}
